{
 "cells": [
  {
   "cell_type": "code",
   "execution_count": 1,
   "metadata": {},
   "outputs": [],
   "source": [
    "# /**\n",
    "#  * @file dynamicInputs.ipynb\n",
    "#  * @author Samay Pashine (samay@iiti.ac.in)\n",
    "#  * @modified Samay Pashine (samay@iiti.ac.in)\n",
    "#  * @brief Open all weather files, preprocess, & save the dynamic input in dataframe.\n",
    "#  * @version 3.0\n",
    "#  * @date 2021-11-12\n",
    "#  * @copyright Copyright (c) 2021\n",
    "#  */\n",
    "\n",
    "# Importing necessary libraries.\n",
    "import os\n",
    "import gc\n",
    "import geopandas\n",
    "import pandas as pd\n",
    "import xarray as xr\n",
    "from constants import *\n",
    "from shapely.geometry import mapping\n",
    "from dask.diagnostics import ProgressBar"
   ]
  },
  {
   "cell_type": "code",
   "execution_count": 2,
   "metadata": {},
   "outputs": [],
   "source": [
    "def clipData(shape_file_path, Data):\n",
    "    \"\"\" Clip the .nc4 data using shape file passed.\n",
    "\n",
    "    Args:\n",
    "        shapeFile (str): Path to shape file for clipping the data.\n",
    "        Data (xarray.Dataset): netCDF Data of AgMerra files.\n",
    "\n",
    "    Returns:\n",
    "        Data (xarray.Dataset): Clipped netCDF AgMerras data.\n",
    "    \"\"\"\n",
    "    # Reading the shape file using geopandas.\n",
    "    geodf = geopandas.read_file(shape_file_path)\n",
    "    \n",
    "    # Configuring the rio engine for clipping.\n",
    "    Data = Data.rio.write_crs(\"EPSG:4326\", inplace=True)\n",
    "\n",
    "    # Clipping the data.\n",
    "    Data = Data.rio.clip(geodf.geometry.apply(mapping), geodf.crs, from_disk=True)\n",
    "    \n",
    "    # Renaming the cooridnates of the data.\n",
    "    Data = Data.rename(x='lon', y='lat')\n",
    "    Data = Data.rio.set_spatial_dims(x_dim='lon', y_dim='lat', inplace=True)\n",
    "    \n",
    "    return Data"
   ]
  },
  {
   "cell_type": "code",
   "execution_count": 5,
   "metadata": {},
   "outputs": [],
   "source": [
    "def loadDatasets(agmerra_files_path):\n",
    "    \n",
    "    # Loading datasets files without decoding time variable.\n",
    "    print(\"\\n[PHASE 1]. Starting Loading Datasets.\")\n",
    "    Data = xr.open_mfdataset(os.path.join(agmerra_files_path, \"*.nc4\"), engine='rasterio', parallel=True, chunks=10)\n",
    "    print(\"[PHASE 1]. Datasets Loaded Successfully.\")\n",
    "\n",
    "    # Clipping the data.\n",
    "    print(\"\\n[PHASE 2]. Starting Clipping.\")\n",
    "    Data = clipData(os.path.join(shape_file_path, '4_states/4_states.shp'), Data)\n",
    "    print(\"[PHASE 2]. Clipped Successfully.\")\n",
    "\n",
    "    # Converting cftime to datetime format.\n",
    "    Data['time'] = Data.indexes['time'].to_datetimeindex()\n",
    "\n",
    "    # Converting dataset in DataFrame format for modification.\n",
    "    print(\"\\n[PHASE 3]. Conversion to Dataframe started.\")\n",
    "    with ProgressBar():\n",
    "        DF = Data.to_dataframe()\n",
    "    print(\"\\n[PHASE 3]. Conversion to Dataframe completed.\")\n",
    "\n",
    "    # Deleting unnecessary variables to conserve space in the system.\n",
    "    gc.collect()\n",
    "    del Data\n",
    "    return DF"
   ]
  },
  {
   "cell_type": "code",
   "execution_count": 6,
   "metadata": {},
   "outputs": [
    {
     "name": "stdout",
     "output_type": "stream",
     "text": [
      "\n",
      "[PHASE 1]. Starting Loading Datasets.\n",
      "[PHASE 1]. Datasets Loaded Successfully.\n",
      "\n",
      "[PHASE 2]. Starting Clipping.\n",
      "[PHASE 2]. Clipped Successfully.\n",
      "\n",
      "[PHASE 3]. Conversion to Dataframe started.\n",
      "[########################################] | 100% Completed | 20min  7.3s\n",
      "[########################################] | 100% Completed | 18min 28.4s\n",
      "[########################################] | 100% Completed | 17min 52.3s\n",
      "\n",
      "[PHASE 3]. Conversion to Dataframe completed.\n"
     ]
    }
   ],
   "source": [
    "if __name__ == \"__main__\":\n",
    "    \"\"\"\n",
    "    Driver Code which saves the finalized dynamic inputs dataset in .feather format.\n",
    "    \"\"\"\n",
    "    # Initializing variables.\n",
    "    DF = loadDatasets(agmerra_files_path)\n",
    "    \n",
    "    # Pre-process the dynamic inputs Dataframe.\n",
    "    DF = DF.dropna(how='any')\n",
    "    DF = DF.reset_index()\n",
    "    DF = DF.drop(columns=['spatial_ref'])\n",
    "\n",
    "    # Grouping the dataframe in monthns for each pair of (lat, lon) and computing tasmax (max temperature),\n",
    "    # tasmin (min temperature), pr (precipitation), and gdd (growing degree days).\n",
    "    DF2 = pd.DataFrame(DF.groupby([pd.Grouper(key='time', freq='M'), 'lat', 'lon']).tasmax.max())\n",
    "    DF2['tasmin'] = DF.groupby([pd.Grouper(key='time', freq='M'), 'lat', 'lon']).tasmin.min()\n",
    "    DF2['pr'] = DF.groupby([pd.Grouper(key='time', freq='M'), 'lat', 'lon']).pr.sum()\n",
    "    DF2['gdd'] = (DF2.tasmax + DF2.tasmin) / 2\n",
    "    \n",
    "    # Changing the format of time in the dataframe.\n",
    "    DF2 = DF2.reset_index()\n",
    "    DF2['time'] = pd.DatetimeIndex(DF2['time']).year\n",
    "    DF2 = DF2.sample(frac = 1)\n",
    "    \n",
    "    # Clearing the memory buffer and removing the unnecessary variables.\n",
    "    gc.collect()\n",
    "    del DF\n",
    "\n",
    "    # Saving the dataframe in feather format with 'lz4' compression.\n",
    "    DF2 = DF2.reset_index()\n",
    "    DF2.to_feather(os.path.join(input_dir, \"dynamic.feather\"), compression='lz4')\n"
   ]
  },
  {
   "cell_type": "code",
   "execution_count": null,
   "metadata": {},
   "outputs": [],
   "source": []
  }
 ],
 "metadata": {
  "interpreter": {
   "hash": "916dbcbb3f70747c44a77c7bcd40155683ae19c65e1c03b4aa3499c5328201f1"
  },
  "kernelspec": {
   "display_name": "Python 3.8.10 64-bit",
   "name": "python3"
  },
  "language_info": {
   "codemirror_mode": {
    "name": "ipython",
    "version": 3
   },
   "file_extension": ".py",
   "mimetype": "text/x-python",
   "name": "python",
   "nbconvert_exporter": "python",
   "pygments_lexer": "ipython3",
   "version": "3.8.10"
  },
  "orig_nbformat": 4
 },
 "nbformat": 4,
 "nbformat_minor": 2
}
