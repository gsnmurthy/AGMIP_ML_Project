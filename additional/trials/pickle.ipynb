{
 "cells": [
  {
   "cell_type": "code",
   "execution_count": 11,
   "metadata": {},
   "outputs": [],
   "source": [
    "import pickle\n",
    "import pandas as pd"
   ]
  },
  {
   "cell_type": "code",
   "execution_count": 2,
   "metadata": {},
   "outputs": [],
   "source": [
    "with open('./static_X_train.p', 'rb') as f:\n",
    "    x = pickle.load(f)\n",
    "    x"
   ]
  },
  {
   "cell_type": "code",
   "execution_count": 3,
   "metadata": {},
   "outputs": [
    {
     "data": {
      "text/plain": [
       "array([[0.66195126, 0.02142308, 0.67471434, ..., 0.01      , 0.6964    ,\n",
       "        0.45725888],\n",
       "       [0.20317069, 0.01      , 0.76664291, ..., 0.01      , 0.7096    ,\n",
       "        0.5577665 ],\n",
       "       [0.46878046, 0.01      , 0.73128571, ..., 0.01      , 0.6898    ,\n",
       "        0.47736041],\n",
       "       ...,\n",
       "       [0.05829264, 0.01      , 0.78785717, ..., 0.01      , 0.6964    ,\n",
       "        0.48238579],\n",
       "       [0.08243897, 0.01      , 0.81614286, ..., 0.01      , 0.6568    ,\n",
       "        0.44218274],\n",
       "       [0.05829264, 0.01      , 0.75249998, ..., 0.01      , 0.373     ,\n",
       "        0.27634518]])"
      ]
     },
     "execution_count": 3,
     "metadata": {},
     "output_type": "execute_result"
    }
   ],
   "source": [
    "x"
   ]
  },
  {
   "cell_type": "code",
   "execution_count": 12,
   "metadata": {},
   "outputs": [
    {
     "data": {
      "text/plain": [
       "array([[0.66195126, 0.02142308, 0.67471434, ..., 0.01      , 0.6964    ,\n",
       "        0.45725888],\n",
       "       [0.20317069, 0.01      , 0.76664291, ..., 0.01      , 0.7096    ,\n",
       "        0.5577665 ],\n",
       "       [0.46878046, 0.01      , 0.73128571, ..., 0.01      , 0.6898    ,\n",
       "        0.47736041],\n",
       "       ...,\n",
       "       [0.05829264, 0.01      , 0.78785717, ..., 0.01      , 0.6964    ,\n",
       "        0.48238579],\n",
       "       [0.08243897, 0.01      , 0.81614286, ..., 0.01      , 0.6568    ,\n",
       "        0.44218274],\n",
       "       [0.05829264, 0.01      , 0.75249998, ..., 0.01      , 0.373     ,\n",
       "        0.27634518]])"
      ]
     },
     "execution_count": 12,
     "metadata": {},
     "output_type": "execute_result"
    }
   ],
   "source": [
    "p_file = pd.read_pickle(\"./static_X_train.p\")\n",
    "p_file"
   ]
  },
  {
   "cell_type": "code",
   "execution_count": 4,
   "metadata": {},
   "outputs": [
    {
     "data": {
      "text/plain": [
       "array([0.66195126, 0.02142308, 0.67471434, 0.24294118, 0.05529582,\n",
       "       1.        , 0.18769231, 1.        , 0.37666667, 0.09735294,\n",
       "       0.34      , 0.01      , 0.27052632, 0.01      , 0.6964    ,\n",
       "       0.45725888])"
      ]
     },
     "execution_count": 4,
     "metadata": {},
     "output_type": "execute_result"
    }
   ],
   "source": [
    "x[0]"
   ]
  },
  {
   "cell_type": "code",
   "execution_count": 5,
   "metadata": {},
   "outputs": [
    {
     "data": {
      "text/plain": [
       "7999"
      ]
     },
     "execution_count": 5,
     "metadata": {},
     "output_type": "execute_result"
    }
   ],
   "source": [
    "len(x)"
   ]
  },
  {
   "cell_type": "code",
   "execution_count": 6,
   "metadata": {},
   "outputs": [],
   "source": [
    "with open('./represent_inputs.p', 'rb') as f1:\n",
    "    y = pickle.load(f1)"
   ]
  },
  {
   "cell_type": "code",
   "execution_count": 7,
   "metadata": {},
   "outputs": [
    {
     "data": {
      "text/plain": [
       "array([[ 47.25      ,   7.        ,   0.30000001, ...,   0.        ,\n",
       "        136.        , 136.        ],\n",
       "       [ 45.75      ,   5.0999999 ,   0.        , ...,   0.        ,\n",
       "        138.        , 156.        ],\n",
       "       [ 44.75      ,   6.19999981,   0.        , ...,   0.        ,\n",
       "        135.        , 140.        ],\n",
       "       ...,\n",
       "       [ 43.25      ,   7.30000019,   3.79999995, ...,   1.        ,\n",
       "        135.        , 156.        ],\n",
       "       [ 34.25      ,   8.19999981,   2.20000005, ...,   1.        ,\n",
       "        113.        , 111.        ],\n",
       "       [ 48.75      ,   7.30000019,   4.5       , ...,   1.        ,\n",
       "        134.        , 112.        ]])"
      ]
     },
     "execution_count": 7,
     "metadata": {},
     "output_type": "execute_result"
    }
   ],
   "source": [
    "y"
   ]
  },
  {
   "cell_type": "code",
   "execution_count": 8,
   "metadata": {},
   "outputs": [
    {
     "data": {
      "text/plain": [
       "array([4.72500000e+01, 7.00000000e+00, 3.00000012e-01, 1.20000005e+00,\n",
       "       2.30000000e+01, 2.07999992e+00, 1.50000000e+02, 2.20000000e+01,\n",
       "       5.40000000e+01, 2.40000000e+01, 4.00000000e+00, 5.10000000e+02,\n",
       "       0.00000000e+00, 6.00000000e+01, 0.00000000e+00, 1.36000000e+02,\n",
       "       1.36000000e+02])"
      ]
     },
     "execution_count": 8,
     "metadata": {},
     "output_type": "execute_result"
    }
   ],
   "source": [
    "y[0]"
   ]
  },
  {
   "cell_type": "code",
   "execution_count": 9,
   "metadata": {},
   "outputs": [],
   "source": [
    "with open('./y_train.p', 'rb') as f2:\n",
    "    z = pickle.load(f2)"
   ]
  },
  {
   "cell_type": "code",
   "execution_count": 10,
   "metadata": {},
   "outputs": [
    {
     "data": {
      "text/plain": [
       "array([[0.51040143],\n",
       "       [0.38476312],\n",
       "       [0.11319819],\n",
       "       ...,\n",
       "       [0.21226845],\n",
       "       [0.16918869],\n",
       "       [0.07657381]])"
      ]
     },
     "execution_count": 10,
     "metadata": {},
     "output_type": "execute_result"
    }
   ],
   "source": [
    "z"
   ]
  },
  {
   "cell_type": "code",
   "execution_count": null,
   "metadata": {},
   "outputs": [],
   "source": []
  }
 ],
 "metadata": {
  "interpreter": {
   "hash": "916dbcbb3f70747c44a77c7bcd40155683ae19c65e1c03b4aa3499c5328201f1"
  },
  "kernelspec": {
   "display_name": "Python 3.8.10 64-bit",
   "name": "python3"
  },
  "language_info": {
   "codemirror_mode": {
    "name": "ipython",
    "version": 3
   },
   "file_extension": ".py",
   "mimetype": "text/x-python",
   "name": "python",
   "nbconvert_exporter": "python",
   "pygments_lexer": "ipython3",
   "version": "3.8.10"
  },
  "orig_nbformat": 4
 },
 "nbformat": 4,
 "nbformat_minor": 2
}
