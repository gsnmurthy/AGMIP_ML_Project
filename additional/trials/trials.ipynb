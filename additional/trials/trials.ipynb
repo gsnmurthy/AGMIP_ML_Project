{
 "cells": [
  {
   "cell_type": "code",
   "execution_count": null,
   "metadata": {},
   "outputs": [],
   "source": [
    "# oldCLip = xarray.open_dataset(\"./ggcmi/phase2_outputs/clipped_dataset_v1/plant-day/epic-tamu_agmerra_fullharm_plant-day_mai_global_annual_1980_2010_C360_T0_W-20_N10_A1.nc4\", decode_times=False)\n",
    "# newClip = xarray.open_dataset(\"./ggcmi/phase2_outputs/clipped_dataset/plant-day/epic-tamu_agmerra_fullharm_plant-day_mai_global_annual_1980_2010_C360_T0_W-20_N10_A1.nc4\", decode_times=False)"
   ]
  },
  {
   "cell_type": "code",
   "execution_count": null,
   "metadata": {},
   "outputs": [],
   "source": [
    "import rioxarray\n",
    "import xarray\n",
    "import geopandas\n",
    "from shapely.geometry import mapping\n",
    "import datetime"
   ]
  },
  {
   "cell_type": "code",
   "execution_count": null,
   "metadata": {},
   "outputs": [],
   "source": [
    "# tasmin_file = rioxarray.open_rasterio(\"./ggcmi/AgMerra/tasmin_agmerra_1980-2010.nc4\", parse_coordinates=True, masked=True, decode_times=True)\n",
    "# tasmax_file = rioxarray.open_rasterio(\"./ggcmi/AgMerra/tasmax_agmerra_1980-2010.nc4\", parse_coordinates=True, masked=True, decode_times=True)\n",
    "# pr_file = rioxarray.open_rasterio(\"./ggcmi/AgMerra/pr_agmerra_1980-2010.nc4\", parse_coordinates=True, masked=True, decode_times=True)"
   ]
  },
  {
   "cell_type": "code",
   "execution_count": null,
   "metadata": {},
   "outputs": [],
   "source": [
    "DS = xarray.open_mfdataset(\"../ggcmi/AgMerra/*_agmerra_1980-2010.nc4\", engine=\"rasterio\", combine='by_coords', concat_dim=\"time\")\n",
    "DS"
   ]
  },
  {
   "cell_type": "code",
   "execution_count": null,
   "metadata": {},
   "outputs": [],
   "source": [
    "geodf = geopandas.read_file(\"../shape/Lower_48_grid_fixed.shp\")\n",
    "# xds = rioxarray.open_rasterio(, decode_times=True)\n",
    "# xds = xds.rename(x='lon', y='lat')\n",
    "# xds = xds.rio.set_spatial_dims(x_dim='lon', y_dim='lat', inplace=True)\n",
    "DS = DS.rio.write_crs(\"EPSG:4326\", inplace=True)"
   ]
  },
  {
   "cell_type": "code",
   "execution_count": null,
   "metadata": {},
   "outputs": [],
   "source": [
    "clipped = DS.rio.clip(geodf.geometry.apply(mapping), geodf.crs, from_disk=True)\n",
    "del DS\n",
    "clipped\n"
   ]
  },
  {
   "cell_type": "code",
   "execution_count": null,
   "metadata": {},
   "outputs": [],
   "source": [
    "clipped.to_netcdf(\"./demo.nc4\")"
   ]
  },
  {
   "cell_type": "code",
   "execution_count": null,
   "metadata": {},
   "outputs": [],
   "source": []
  },
  {
   "cell_type": "code",
   "execution_count": null,
   "metadata": {},
   "outputs": [],
   "source": []
  },
  {
   "cell_type": "code",
   "execution_count": null,
   "metadata": {},
   "outputs": [],
   "source": []
  },
  {
   "cell_type": "code",
   "execution_count": null,
   "metadata": {},
   "outputs": [],
   "source": []
  },
  {
   "cell_type": "code",
   "execution_count": null,
   "metadata": {},
   "outputs": [],
   "source": [
    "import lz4\n",
    "import pickle\n",
    "\n",
    "# with lz4.frame.open('./represent_weather.lz4', 'w') as f: \n",
    "#         pickle.dump(data, f)\n",
    "\n",
    "\n",
    "with lz4.frame.open('./represent_weather.lz4', 'rb') as f: \n",
    "        data = pickle.load(f)\n",
    "\n",
    "data\n",
    "\n",
    "# compression_level=lz4.frame.COMPRESSIONLEVEL_MAX\n",
    "# with lz4.frame.open('./represent_weather.lz4', mode='r') as fp:\n",
    "    # bytes_written = fp.write(clipped.to_dataframe())\n",
    "    # bytes_written == len(input_data)\n",
    "\n",
    "# compressed = lz4.frame.compress(clipped.to_array())\n",
    "# decompressed = lz4.frame.decompress(\"./represent_weather.lz4\")"
   ]
  },
  {
   "cell_type": "code",
   "execution_count": null,
   "metadata": {},
   "outputs": [],
   "source": [
    "clipped.to"
   ]
  },
  {
   "cell_type": "code",
   "execution_count": null,
   "metadata": {},
   "outputs": [],
   "source": [
    "DF = clipped.to_dataframe()\n",
    "DF = DF.reset_index()\n",
    "# DF = DF.dropna(how=\"any\")\n",
    "DF = DF.rename(columns={'x': 'lon', 'y': 'lat'})\n",
    "DF"
   ]
  },
  {
   "cell_type": "code",
   "execution_count": null,
   "metadata": {},
   "outputs": [],
   "source": [
    "del unclipped_rio, clipped"
   ]
  },
  {
   "cell_type": "code",
   "execution_count": null,
   "metadata": {},
   "outputs": [],
   "source": [
    "unclipped_rio = rioxarray.open_rasterio(\"./ggcmi/AgMerra/tasmax_agmerra_1980-2010.nc4\", parse_coordinates=True, masked=True, decode_times=True)\n",
    "unclipped_rio = unclipped_rio.rio.write_crs(\"EPSG:4326\", inplace=True)\n",
    "clipped = unclipped_rio.rio.clip(geodf.geometry.apply(mapping), geodf.crs, from_disk=True)\n",
    "DF_max = clipped.to_dataframe()\n",
    "DF_max\n",
    "# DF_max = DF_max.reset_index()\n",
    "# DF = DF.dropna(how=\"any\")\n",
    "# DF_max = DF_max.rename(columns={'x': 'lon', 'y': 'lat'})"
   ]
  },
  {
   "cell_type": "code",
   "execution_count": null,
   "metadata": {},
   "outputs": [],
   "source": [
    "DF['tasmax'] = DF_max['tasmax']\n",
    "\n",
    "del unclipped_rio, clipped, DF_max"
   ]
  },
  {
   "cell_type": "code",
   "execution_count": null,
   "metadata": {},
   "outputs": [],
   "source": [
    "unclipped_rio = rioxarray.open_rasterio(\"./ggcmi/AgMerra/pr_agmerra_1980-2010.nc4\", parse_coordinates=True, masked=True, decode_times=True)\n",
    "unclipped_rio = unclipped_rio.rio.write_crs(\"EPSG:4326\", inplace=True)\n",
    "clipped = unclipped_rio.rio.clip(geodf.geometry.apply(mapping), geodf.crs, from_disk=True)\n",
    "DF_pr = clipped.to_dataframe()\n",
    "DF_pr\n",
    "# DF_pr = DF_pr.reset_index()\n",
    "# DF = DF.dropna(how=\"any\")\n",
    "# DF_pr = DF_pr.rename(columns={'x': 'lon', 'y': 'lat'})"
   ]
  },
  {
   "cell_type": "code",
   "execution_count": null,
   "metadata": {},
   "outputs": [],
   "source": [
    "DF['pr'] = DF_pr['pr']\n",
    "\n",
    "del unclipped_rio, clipped, DF_pr"
   ]
  },
  {
   "cell_type": "code",
   "execution_count": null,
   "metadata": {},
   "outputs": [],
   "source": [
    "xds = xarray.open_dataset(\"./ggcmi/AgMerra/clipped_files_v1/tasmin.nc4\", decode_times=False)\n",
    "xds"
   ]
  },
  {
   "cell_type": "code",
   "execution_count": null,
   "metadata": {},
   "outputs": [],
   "source": [
    "tmax = rioxarray.open_rasterio(\"./ggcmi/AgMerra/clipped_files/tasmax.nc4\", decode_times=True)\n",
    "tmax"
   ]
  },
  {
   "cell_type": "code",
   "execution_count": null,
   "metadata": {},
   "outputs": [],
   "source": [
    "pr = xarray.open_dataset(\"./ggcmi/AgMerra/clipped_files/tasmax.nc4\", decode_times=False)\n",
    "pr"
   ]
  },
  {
   "cell_type": "code",
   "execution_count": null,
   "metadata": {},
   "outputs": [],
   "source": []
  }
 ],
 "metadata": {
  "interpreter": {
   "hash": "916dbcbb3f70747c44a77c7bcd40155683ae19c65e1c03b4aa3499c5328201f1"
  },
  "kernelspec": {
   "display_name": "Python 3.8.10 64-bit",
   "name": "python3"
  },
  "language_info": {
   "codemirror_mode": {
    "name": "ipython",
    "version": 3
   },
   "file_extension": ".py",
   "mimetype": "text/x-python",
   "name": "python",
   "nbconvert_exporter": "python",
   "pygments_lexer": "ipython3",
   "version": "3.8.10"
  },
  "orig_nbformat": 4
 },
 "nbformat": 4,
 "nbformat_minor": 2
}
